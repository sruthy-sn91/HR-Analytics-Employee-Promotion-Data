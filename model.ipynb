{
 "cells": [
  {
   "cell_type": "markdown",
   "id": "1b7ea5c6-c8cb-42e8-9245-93fe692b109a",
   "metadata": {},
   "source": [
    "## <center>Predict whether the Employee of an Organization should get Promotion or Not?</center>"
   ]
  },
  {
   "cell_type": "code",
   "execution_count": 1,
   "id": "5f5ad9e7-ecf6-4c63-b017-088370de3952",
   "metadata": {},
   "outputs": [],
   "source": [
    "# Import all the required libraries\n",
    "\n",
    "import numpy as np\n",
    "import pandas as pd\n",
    "import seaborn as sns\n",
    "import matplotlib.pyplot as plt\n",
    "import sklearn\n",
    "import imblearn\n",
    "\n",
    "from sklearn.model_selection import train_test_split\n",
    "from sklearn.pipeline import Pipeline\n",
    "from sklearn.impute import SimpleImputer\n",
    "from feature_engine.imputation import CategoricalImputer\n",
    "from sklearn.preprocessing import StandardScaler\n",
    "\n",
    "import tensorflow as tf\n",
    "from tensorflow import keras\n",
    "from tensorflow.keras import layers\n",
    "\n",
    "from sklearn.linear_model import LogisticRegression\n",
    "from sklearn.tree import DecisionTreeClassifier\n",
    "from sklearn.ensemble import RandomForestClassifier\n",
    "from sklearn.ensemble import GradientBoostingClassifier\n",
    "from sklearn.metrics import accuracy_score, precision_score, recall_score, f1_score, classification_report"
   ]
  },
  {
   "cell_type": "code",
   "execution_count": 2,
   "id": "9cd94c83-3e0d-45a9-95a8-e26c3ca51045",
   "metadata": {},
   "outputs": [],
   "source": [
    "# Load the data\n",
    "data = pd.read_csv(\"train.csv\")\n",
    "test = pd.read_csv(\"test.csv\")"
   ]
  },
  {
   "cell_type": "code",
   "execution_count": 3,
   "id": "2fb8d14b-9778-4573-bb67-5bbede51de26",
   "metadata": {},
   "outputs": [
    {
     "data": {
      "text/html": [
       "<div>\n",
       "<style scoped>\n",
       "    .dataframe tbody tr th:only-of-type {\n",
       "        vertical-align: middle;\n",
       "    }\n",
       "\n",
       "    .dataframe tbody tr th {\n",
       "        vertical-align: top;\n",
       "    }\n",
       "\n",
       "    .dataframe thead th {\n",
       "        text-align: right;\n",
       "    }\n",
       "</style>\n",
       "<table border=\"1\" class=\"dataframe\">\n",
       "  <thead>\n",
       "    <tr style=\"text-align: right;\">\n",
       "      <th></th>\n",
       "      <th>employee_id</th>\n",
       "      <th>department</th>\n",
       "      <th>region</th>\n",
       "      <th>education</th>\n",
       "      <th>gender</th>\n",
       "      <th>recruitment_channel</th>\n",
       "      <th>no_of_trainings</th>\n",
       "      <th>age</th>\n",
       "      <th>previous_year_rating</th>\n",
       "      <th>length_of_service</th>\n",
       "      <th>awards_won?</th>\n",
       "      <th>avg_training_score</th>\n",
       "      <th>is_promoted</th>\n",
       "    </tr>\n",
       "  </thead>\n",
       "  <tbody>\n",
       "    <tr>\n",
       "      <th>0</th>\n",
       "      <td>65438</td>\n",
       "      <td>Sales &amp; Marketing</td>\n",
       "      <td>region_7</td>\n",
       "      <td>Master's &amp; above</td>\n",
       "      <td>f</td>\n",
       "      <td>sourcing</td>\n",
       "      <td>1</td>\n",
       "      <td>35</td>\n",
       "      <td>5.0</td>\n",
       "      <td>8</td>\n",
       "      <td>0</td>\n",
       "      <td>49</td>\n",
       "      <td>0</td>\n",
       "    </tr>\n",
       "    <tr>\n",
       "      <th>1</th>\n",
       "      <td>65141</td>\n",
       "      <td>Operations</td>\n",
       "      <td>region_22</td>\n",
       "      <td>Bachelor's</td>\n",
       "      <td>m</td>\n",
       "      <td>other</td>\n",
       "      <td>1</td>\n",
       "      <td>30</td>\n",
       "      <td>5.0</td>\n",
       "      <td>4</td>\n",
       "      <td>0</td>\n",
       "      <td>60</td>\n",
       "      <td>0</td>\n",
       "    </tr>\n",
       "    <tr>\n",
       "      <th>2</th>\n",
       "      <td>7513</td>\n",
       "      <td>Sales &amp; Marketing</td>\n",
       "      <td>region_19</td>\n",
       "      <td>Bachelor's</td>\n",
       "      <td>m</td>\n",
       "      <td>sourcing</td>\n",
       "      <td>1</td>\n",
       "      <td>34</td>\n",
       "      <td>3.0</td>\n",
       "      <td>7</td>\n",
       "      <td>0</td>\n",
       "      <td>50</td>\n",
       "      <td>0</td>\n",
       "    </tr>\n",
       "    <tr>\n",
       "      <th>3</th>\n",
       "      <td>2542</td>\n",
       "      <td>Sales &amp; Marketing</td>\n",
       "      <td>region_23</td>\n",
       "      <td>Bachelor's</td>\n",
       "      <td>m</td>\n",
       "      <td>other</td>\n",
       "      <td>2</td>\n",
       "      <td>39</td>\n",
       "      <td>1.0</td>\n",
       "      <td>10</td>\n",
       "      <td>0</td>\n",
       "      <td>50</td>\n",
       "      <td>0</td>\n",
       "    </tr>\n",
       "    <tr>\n",
       "      <th>4</th>\n",
       "      <td>48945</td>\n",
       "      <td>Technology</td>\n",
       "      <td>region_26</td>\n",
       "      <td>Bachelor's</td>\n",
       "      <td>m</td>\n",
       "      <td>other</td>\n",
       "      <td>1</td>\n",
       "      <td>45</td>\n",
       "      <td>3.0</td>\n",
       "      <td>2</td>\n",
       "      <td>0</td>\n",
       "      <td>73</td>\n",
       "      <td>0</td>\n",
       "    </tr>\n",
       "  </tbody>\n",
       "</table>\n",
       "</div>"
      ],
      "text/plain": [
       "   employee_id         department     region         education gender  \\\n",
       "0        65438  Sales & Marketing   region_7  Master's & above      f   \n",
       "1        65141         Operations  region_22        Bachelor's      m   \n",
       "2         7513  Sales & Marketing  region_19        Bachelor's      m   \n",
       "3         2542  Sales & Marketing  region_23        Bachelor's      m   \n",
       "4        48945         Technology  region_26        Bachelor's      m   \n",
       "\n",
       "  recruitment_channel  no_of_trainings  age  previous_year_rating  \\\n",
       "0            sourcing                1   35                   5.0   \n",
       "1               other                1   30                   5.0   \n",
       "2            sourcing                1   34                   3.0   \n",
       "3               other                2   39                   1.0   \n",
       "4               other                1   45                   3.0   \n",
       "\n",
       "   length_of_service  awards_won?  avg_training_score  is_promoted  \n",
       "0                  8            0                  49            0  \n",
       "1                  4            0                  60            0  \n",
       "2                  7            0                  50            0  \n",
       "3                 10            0                  50            0  \n",
       "4                  2            0                  73            0  "
      ]
     },
     "execution_count": 3,
     "metadata": {},
     "output_type": "execute_result"
    }
   ],
   "source": [
    "data.head()"
   ]
  },
  {
   "cell_type": "code",
   "execution_count": 4,
   "id": "8fff0c1f-a29b-430d-b5c8-2d5620385d66",
   "metadata": {},
   "outputs": [
    {
     "data": {
      "text/plain": [
       "(54808, 13)"
      ]
     },
     "execution_count": 4,
     "metadata": {},
     "output_type": "execute_result"
    }
   ],
   "source": [
    "data.shape"
   ]
  },
  {
   "cell_type": "code",
   "execution_count": 5,
   "id": "e24f41ee-71a9-4853-8f6f-37f67f183c5e",
   "metadata": {},
   "outputs": [
    {
     "data": {
      "text/plain": [
       "employee_id               int64\n",
       "department               object\n",
       "region                   object\n",
       "education                object\n",
       "gender                   object\n",
       "recruitment_channel      object\n",
       "no_of_trainings           int64\n",
       "age                       int64\n",
       "previous_year_rating    float64\n",
       "length_of_service         int64\n",
       "awards_won?               int64\n",
       "avg_training_score        int64\n",
       "is_promoted               int64\n",
       "dtype: object"
      ]
     },
     "execution_count": 5,
     "metadata": {},
     "output_type": "execute_result"
    }
   ],
   "source": [
    "data.dtypes"
   ]
  },
  {
   "cell_type": "markdown",
   "id": "de14c784-6681-40b9-93ba-5867e25b1ccc",
   "metadata": {},
   "source": [
    "\n",
    "employee_id is unique to every employee and doesn't influence promotion, so it can be dropped.\n",
    "\n",
    "department, region, education, gender, recruitment_channel are categorical variables\n",
    "\n",
    "no_of_trainings, age, length_of_service, awards_won?, avg_training_score, and is_promoted are integer variables\n",
    "previous_year_rating is floating point variable"
   ]
  },
  {
   "cell_type": "code",
   "execution_count": 6,
   "id": "d681efae-9253-4580-8203-b83180add377",
   "metadata": {},
   "outputs": [
    {
     "data": {
      "text/html": [
       "<div>\n",
       "<style scoped>\n",
       "    .dataframe tbody tr th:only-of-type {\n",
       "        vertical-align: middle;\n",
       "    }\n",
       "\n",
       "    .dataframe tbody tr th {\n",
       "        vertical-align: top;\n",
       "    }\n",
       "\n",
       "    .dataframe thead th {\n",
       "        text-align: right;\n",
       "    }\n",
       "</style>\n",
       "<table border=\"1\" class=\"dataframe\">\n",
       "  <thead>\n",
       "    <tr style=\"text-align: right;\">\n",
       "      <th></th>\n",
       "      <th>department</th>\n",
       "      <th>region</th>\n",
       "      <th>education</th>\n",
       "      <th>gender</th>\n",
       "      <th>recruitment_channel</th>\n",
       "    </tr>\n",
       "  </thead>\n",
       "  <tbody>\n",
       "    <tr>\n",
       "      <th>count</th>\n",
       "      <td>54808</td>\n",
       "      <td>54808</td>\n",
       "      <td>52399</td>\n",
       "      <td>54808</td>\n",
       "      <td>54808</td>\n",
       "    </tr>\n",
       "    <tr>\n",
       "      <th>unique</th>\n",
       "      <td>9</td>\n",
       "      <td>34</td>\n",
       "      <td>3</td>\n",
       "      <td>2</td>\n",
       "      <td>3</td>\n",
       "    </tr>\n",
       "    <tr>\n",
       "      <th>top</th>\n",
       "      <td>Sales &amp; Marketing</td>\n",
       "      <td>region_2</td>\n",
       "      <td>Bachelor's</td>\n",
       "      <td>m</td>\n",
       "      <td>other</td>\n",
       "    </tr>\n",
       "    <tr>\n",
       "      <th>freq</th>\n",
       "      <td>16840</td>\n",
       "      <td>12343</td>\n",
       "      <td>36669</td>\n",
       "      <td>38496</td>\n",
       "      <td>30446</td>\n",
       "    </tr>\n",
       "  </tbody>\n",
       "</table>\n",
       "</div>"
      ],
      "text/plain": [
       "               department    region   education gender recruitment_channel\n",
       "count               54808     54808       52399  54808               54808\n",
       "unique                  9        34           3      2                   3\n",
       "top     Sales & Marketing  region_2  Bachelor's      m               other\n",
       "freq                16840     12343       36669  38496               30446"
      ]
     },
     "execution_count": 6,
     "metadata": {},
     "output_type": "execute_result"
    }
   ],
   "source": [
    "data.describe(include = 'object')"
   ]
  },
  {
   "cell_type": "markdown",
   "id": "ba0a3f00-cbd4-48d5-859d-a896b5251da3",
   "metadata": {},
   "source": [
    "department, region, education, gender, recruitment_channel has 9, 34, 3, 2 and 3 unique values respectively"
   ]
  },
  {
   "cell_type": "code",
   "execution_count": 7,
   "id": "d2fdda21-2c93-4fc3-953d-9f684d78109b",
   "metadata": {},
   "outputs": [
    {
     "data": {
      "text/plain": [
       "Sales & Marketing    16840\n",
       "Operations           11348\n",
       "Technology            7138\n",
       "Procurement           7138\n",
       "Analytics             5352\n",
       "Finance               2536\n",
       "HR                    2418\n",
       "Legal                 1039\n",
       "R&D                    999\n",
       "Name: department, dtype: int64"
      ]
     },
     "execution_count": 7,
     "metadata": {},
     "output_type": "execute_result"
    }
   ],
   "source": [
    "data['department'].value_counts()"
   ]
  },
  {
   "cell_type": "code",
   "execution_count": 8,
   "id": "692b2602-06c7-4a34-ba51-0c2449028b10",
   "metadata": {},
   "outputs": [
    {
     "data": {
      "text/plain": [
       "Bachelor's          36669\n",
       "Master's & above    14925\n",
       "Below Secondary       805\n",
       "Name: education, dtype: int64"
      ]
     },
     "execution_count": 8,
     "metadata": {},
     "output_type": "execute_result"
    }
   ],
   "source": [
    "data['education'].value_counts()"
   ]
  },
  {
   "cell_type": "code",
   "execution_count": 9,
   "id": "fd2d7457-5381-4746-82f6-902f0bd04ab5",
   "metadata": {},
   "outputs": [
    {
     "data": {
      "text/plain": [
       "other       30446\n",
       "sourcing    23220\n",
       "referred     1142\n",
       "Name: recruitment_channel, dtype: int64"
      ]
     },
     "execution_count": 9,
     "metadata": {},
     "output_type": "execute_result"
    }
   ],
   "source": [
    "data['recruitment_channel'].value_counts()"
   ]
  },
  {
   "cell_type": "code",
   "execution_count": 10,
   "id": "6e1c07ff-a74e-4088-bdc7-0b9a817e66c3",
   "metadata": {},
   "outputs": [
    {
     "data": {
      "text/plain": [
       "m    38496\n",
       "f    16312\n",
       "Name: gender, dtype: int64"
      ]
     },
     "execution_count": 10,
     "metadata": {},
     "output_type": "execute_result"
    }
   ],
   "source": [
    "data['gender'].value_counts()"
   ]
  },
  {
   "cell_type": "code",
   "execution_count": 11,
   "id": "09163a97-664b-4965-90cc-2c8c48e80757",
   "metadata": {},
   "outputs": [
    {
     "data": {
      "text/html": [
       "<div>\n",
       "<style scoped>\n",
       "    .dataframe tbody tr th:only-of-type {\n",
       "        vertical-align: middle;\n",
       "    }\n",
       "\n",
       "    .dataframe tbody tr th {\n",
       "        vertical-align: top;\n",
       "    }\n",
       "\n",
       "    .dataframe thead th {\n",
       "        text-align: right;\n",
       "    }\n",
       "</style>\n",
       "<table border=\"1\" class=\"dataframe\">\n",
       "  <thead>\n",
       "    <tr style=\"text-align: right;\">\n",
       "      <th></th>\n",
       "      <th>employee_id</th>\n",
       "      <th>no_of_trainings</th>\n",
       "      <th>age</th>\n",
       "      <th>previous_year_rating</th>\n",
       "      <th>length_of_service</th>\n",
       "      <th>awards_won?</th>\n",
       "      <th>avg_training_score</th>\n",
       "      <th>is_promoted</th>\n",
       "    </tr>\n",
       "  </thead>\n",
       "  <tbody>\n",
       "    <tr>\n",
       "      <th>count</th>\n",
       "      <td>54808.000000</td>\n",
       "      <td>54808.000000</td>\n",
       "      <td>54808.000000</td>\n",
       "      <td>50684.000000</td>\n",
       "      <td>54808.000000</td>\n",
       "      <td>54808.000000</td>\n",
       "      <td>54808.000000</td>\n",
       "      <td>54808.000000</td>\n",
       "    </tr>\n",
       "    <tr>\n",
       "      <th>mean</th>\n",
       "      <td>39195.830627</td>\n",
       "      <td>1.253011</td>\n",
       "      <td>34.803915</td>\n",
       "      <td>3.329256</td>\n",
       "      <td>5.865512</td>\n",
       "      <td>0.023172</td>\n",
       "      <td>63.386750</td>\n",
       "      <td>0.085170</td>\n",
       "    </tr>\n",
       "    <tr>\n",
       "      <th>std</th>\n",
       "      <td>22586.581449</td>\n",
       "      <td>0.609264</td>\n",
       "      <td>7.660169</td>\n",
       "      <td>1.259993</td>\n",
       "      <td>4.265094</td>\n",
       "      <td>0.150450</td>\n",
       "      <td>13.371559</td>\n",
       "      <td>0.279137</td>\n",
       "    </tr>\n",
       "    <tr>\n",
       "      <th>min</th>\n",
       "      <td>1.000000</td>\n",
       "      <td>1.000000</td>\n",
       "      <td>20.000000</td>\n",
       "      <td>1.000000</td>\n",
       "      <td>1.000000</td>\n",
       "      <td>0.000000</td>\n",
       "      <td>39.000000</td>\n",
       "      <td>0.000000</td>\n",
       "    </tr>\n",
       "    <tr>\n",
       "      <th>25%</th>\n",
       "      <td>19669.750000</td>\n",
       "      <td>1.000000</td>\n",
       "      <td>29.000000</td>\n",
       "      <td>3.000000</td>\n",
       "      <td>3.000000</td>\n",
       "      <td>0.000000</td>\n",
       "      <td>51.000000</td>\n",
       "      <td>0.000000</td>\n",
       "    </tr>\n",
       "    <tr>\n",
       "      <th>50%</th>\n",
       "      <td>39225.500000</td>\n",
       "      <td>1.000000</td>\n",
       "      <td>33.000000</td>\n",
       "      <td>3.000000</td>\n",
       "      <td>5.000000</td>\n",
       "      <td>0.000000</td>\n",
       "      <td>60.000000</td>\n",
       "      <td>0.000000</td>\n",
       "    </tr>\n",
       "    <tr>\n",
       "      <th>75%</th>\n",
       "      <td>58730.500000</td>\n",
       "      <td>1.000000</td>\n",
       "      <td>39.000000</td>\n",
       "      <td>4.000000</td>\n",
       "      <td>7.000000</td>\n",
       "      <td>0.000000</td>\n",
       "      <td>76.000000</td>\n",
       "      <td>0.000000</td>\n",
       "    </tr>\n",
       "    <tr>\n",
       "      <th>max</th>\n",
       "      <td>78298.000000</td>\n",
       "      <td>10.000000</td>\n",
       "      <td>60.000000</td>\n",
       "      <td>5.000000</td>\n",
       "      <td>37.000000</td>\n",
       "      <td>1.000000</td>\n",
       "      <td>99.000000</td>\n",
       "      <td>1.000000</td>\n",
       "    </tr>\n",
       "  </tbody>\n",
       "</table>\n",
       "</div>"
      ],
      "text/plain": [
       "        employee_id  no_of_trainings           age  previous_year_rating  \\\n",
       "count  54808.000000     54808.000000  54808.000000          50684.000000   \n",
       "mean   39195.830627         1.253011     34.803915              3.329256   \n",
       "std    22586.581449         0.609264      7.660169              1.259993   \n",
       "min        1.000000         1.000000     20.000000              1.000000   \n",
       "25%    19669.750000         1.000000     29.000000              3.000000   \n",
       "50%    39225.500000         1.000000     33.000000              3.000000   \n",
       "75%    58730.500000         1.000000     39.000000              4.000000   \n",
       "max    78298.000000        10.000000     60.000000              5.000000   \n",
       "\n",
       "       length_of_service   awards_won?  avg_training_score   is_promoted  \n",
       "count       54808.000000  54808.000000        54808.000000  54808.000000  \n",
       "mean            5.865512      0.023172           63.386750      0.085170  \n",
       "std             4.265094      0.150450           13.371559      0.279137  \n",
       "min             1.000000      0.000000           39.000000      0.000000  \n",
       "25%             3.000000      0.000000           51.000000      0.000000  \n",
       "50%             5.000000      0.000000           60.000000      0.000000  \n",
       "75%             7.000000      0.000000           76.000000      0.000000  \n",
       "max            37.000000      1.000000           99.000000      1.000000  "
      ]
     },
     "execution_count": 11,
     "metadata": {},
     "output_type": "execute_result"
    }
   ],
   "source": [
    "data.describe()"
   ]
  },
  {
   "cell_type": "code",
   "execution_count": 12,
   "id": "53881660-eff3-4870-9d25-1235597b67ec",
   "metadata": {},
   "outputs": [
    {
     "data": {
      "text/plain": [
       "0    50140\n",
       "1     4668\n",
       "Name: is_promoted, dtype: int64"
      ]
     },
     "execution_count": 12,
     "metadata": {},
     "output_type": "execute_result"
    }
   ],
   "source": [
    "data['is_promoted'].value_counts()"
   ]
  },
  {
   "cell_type": "code",
   "execution_count": 13,
   "id": "73443ccc-53ef-4234-8ba0-02faeda89d40",
   "metadata": {},
   "outputs": [
    {
     "data": {
      "text/html": [
       "<div>\n",
       "<style scoped>\n",
       "    .dataframe tbody tr th:only-of-type {\n",
       "        vertical-align: middle;\n",
       "    }\n",
       "\n",
       "    .dataframe tbody tr th {\n",
       "        vertical-align: top;\n",
       "    }\n",
       "\n",
       "    .dataframe thead th {\n",
       "        text-align: right;\n",
       "    }\n",
       "</style>\n",
       "<table border=\"1\" class=\"dataframe\">\n",
       "  <thead>\n",
       "    <tr style=\"text-align: right;\">\n",
       "      <th></th>\n",
       "      <th>Unnamed: 0</th>\n",
       "      <th>0</th>\n",
       "      <th>1</th>\n",
       "      <th>2</th>\n",
       "      <th>3</th>\n",
       "      <th>4</th>\n",
       "      <th>5</th>\n",
       "      <th>6</th>\n",
       "      <th>7</th>\n",
       "      <th>8</th>\n",
       "      <th>9</th>\n",
       "      <th>10</th>\n",
       "    </tr>\n",
       "  </thead>\n",
       "  <tbody>\n",
       "    <tr>\n",
       "      <th>0</th>\n",
       "      <td>0</td>\n",
       "      <td>1.225034</td>\n",
       "      <td>-0.467064</td>\n",
       "      <td>0.790291</td>\n",
       "      <td>-0.406443</td>\n",
       "      <td>-1.421486</td>\n",
       "      <td>-0.521453</td>\n",
       "      <td>-1.136398</td>\n",
       "      <td>-0.160635</td>\n",
       "      <td>0.695215</td>\n",
       "      <td>-0.557557</td>\n",
       "      <td>-0.130297</td>\n",
       "    </tr>\n",
       "    <tr>\n",
       "      <th>1</th>\n",
       "      <td>1</td>\n",
       "      <td>-1.172164</td>\n",
       "      <td>-0.467064</td>\n",
       "      <td>-1.265357</td>\n",
       "      <td>-0.406443</td>\n",
       "      <td>-0.466090</td>\n",
       "      <td>-0.521453</td>\n",
       "      <td>-0.150871</td>\n",
       "      <td>-0.160635</td>\n",
       "      <td>-1.098125</td>\n",
       "      <td>-0.557557</td>\n",
       "      <td>-0.724611</td>\n",
       "    </tr>\n",
       "    <tr>\n",
       "      <th>2</th>\n",
       "      <td>2</td>\n",
       "      <td>0.825501</td>\n",
       "      <td>-0.467064</td>\n",
       "      <td>0.790291</td>\n",
       "      <td>-0.406443</td>\n",
       "      <td>-0.466090</td>\n",
       "      <td>-2.269900</td>\n",
       "      <td>-0.397253</td>\n",
       "      <td>-0.160635</td>\n",
       "      <td>-1.374024</td>\n",
       "      <td>-2.254762</td>\n",
       "      <td>-0.816044</td>\n",
       "    </tr>\n",
       "    <tr>\n",
       "      <th>3</th>\n",
       "      <td>3</td>\n",
       "      <td>0.026435</td>\n",
       "      <td>-0.467064</td>\n",
       "      <td>-1.265357</td>\n",
       "      <td>3.135047</td>\n",
       "      <td>-0.466090</td>\n",
       "      <td>-1.395676</td>\n",
       "      <td>0.834656</td>\n",
       "      <td>-0.160635</td>\n",
       "      <td>-0.132480</td>\n",
       "      <td>-1.406160</td>\n",
       "      <td>2.566976</td>\n",
       "    </tr>\n",
       "    <tr>\n",
       "      <th>4</th>\n",
       "      <td>4</td>\n",
       "      <td>-1.571697</td>\n",
       "      <td>-0.467064</td>\n",
       "      <td>0.790291</td>\n",
       "      <td>-0.406443</td>\n",
       "      <td>-0.602575</td>\n",
       "      <td>0.352770</td>\n",
       "      <td>0.341892</td>\n",
       "      <td>-0.160635</td>\n",
       "      <td>-0.408379</td>\n",
       "      <td>0.291046</td>\n",
       "      <td>-0.496029</td>\n",
       "    </tr>\n",
       "  </tbody>\n",
       "</table>\n",
       "</div>"
      ],
      "text/plain": [
       "   Unnamed: 0         0         1         2         3         4         5  \\\n",
       "0           0  1.225034 -0.467064  0.790291 -0.406443 -1.421486 -0.521453   \n",
       "1           1 -1.172164 -0.467064 -1.265357 -0.406443 -0.466090 -0.521453   \n",
       "2           2  0.825501 -0.467064  0.790291 -0.406443 -0.466090 -2.269900   \n",
       "3           3  0.026435 -0.467064 -1.265357  3.135047 -0.466090 -1.395676   \n",
       "4           4 -1.571697 -0.467064  0.790291 -0.406443 -0.602575  0.352770   \n",
       "\n",
       "          6         7         8         9        10  \n",
       "0 -1.136398 -0.160635  0.695215 -0.557557 -0.130297  \n",
       "1 -0.150871 -0.160635 -1.098125 -0.557557 -0.724611  \n",
       "2 -0.397253 -0.160635 -1.374024 -2.254762 -0.816044  \n",
       "3  0.834656 -0.160635 -0.132480 -1.406160  2.566976  \n",
       "4  0.341892 -0.160635 -0.408379  0.291046 -0.496029  "
      ]
     },
     "execution_count": 13,
     "metadata": {},
     "output_type": "execute_result"
    }
   ],
   "source": [
    "test.head()"
   ]
  },
  {
   "cell_type": "code",
   "execution_count": 14,
   "id": "e0a9e739-2728-4a2c-8c35-581c1fdf34a8",
   "metadata": {},
   "outputs": [
    {
     "data": {
      "text/plain": [
       "(23490, 12)"
      ]
     },
     "execution_count": 14,
     "metadata": {},
     "output_type": "execute_result"
    }
   ],
   "source": [
    "test.shape"
   ]
  },
  {
   "cell_type": "code",
   "execution_count": 15,
   "id": "62356e00-5636-45a1-8482-1f73956ed53b",
   "metadata": {},
   "outputs": [
    {
     "name": "stderr",
     "output_type": "stream",
     "text": [
      "C:\\Users\\sreer\\anaconda3\\lib\\site-packages\\seaborn\\_decorators.py:36: FutureWarning: Pass the following variable as a keyword arg: x. From version 0.12, the only valid positional argument will be `data`, and passing other arguments without an explicit keyword will result in an error or misinterpretation.\n",
      "  warnings.warn(\n"
     ]
    },
    {
     "data": {
      "image/png": "[encoded data removed]",
      "text/plain": [
       "<Figure size 1600x500 with 2 Axes>"
      ]
     },
     "metadata": {},
     "output_type": "display_data"
    }
   ],
   "source": [
    "# Plotting the Target Class Balance\n",
    "\n",
    "# setting up the size of the figures\n",
    "plt.rcParams['figure.figsize'] = (16, 5)\n",
    "\n",
    "# setting up the style of the plot\n",
    "plt.style.use('fivethirtyeight')\n",
    "\n",
    "plt.subplot(1, 2, 1)\n",
    "sns.countplot(data['is_promoted'],)\n",
    "\n",
    "plt.xlabel('Promoted or Not?', fontsize = 10)\n",
    "\n",
    "plt.subplot(1, 2, 2)\n",
    "data['is_promoted'].value_counts().plot(kind = 'pie', explode = [0, 0.1], autopct = '%.2f%%', startangle = 0,\n",
    "                                       labels = ['1','0'], shadow = True, pctdistance = 0.5)\n",
    "plt.axis('off')\n",
    "\n",
    "plt.suptitle('Target Class Balance', fontsize = 15)\n",
    "plt.show()"
   ]
  },
  {
   "cell_type": "code",
   "execution_count": 16,
   "id": "b9c8ed6a-5165-475c-8d8e-4fb441e87bbc",
   "metadata": {},
   "outputs": [
    {
     "data": {
      "text/html": [
       "<div>\n",
       "<style scoped>\n",
       "    .dataframe tbody tr th:only-of-type {\n",
       "        vertical-align: middle;\n",
       "    }\n",
       "\n",
       "    .dataframe tbody tr th {\n",
       "        vertical-align: top;\n",
       "    }\n",
       "\n",
       "    .dataframe thead th {\n",
       "        text-align: right;\n",
       "    }\n",
       "</style>\n",
       "<table border=\"1\" class=\"dataframe\">\n",
       "  <thead>\n",
       "    <tr style=\"text-align: right;\">\n",
       "      <th></th>\n",
       "      <th>Train_Total</th>\n",
       "      <th>Test_Total</th>\n",
       "    </tr>\n",
       "  </thead>\n",
       "  <tbody>\n",
       "    <tr>\n",
       "      <th>0</th>\n",
       "      <td>NaN</td>\n",
       "      <td>0.0</td>\n",
       "    </tr>\n",
       "    <tr>\n",
       "      <th>1</th>\n",
       "      <td>NaN</td>\n",
       "      <td>0.0</td>\n",
       "    </tr>\n",
       "    <tr>\n",
       "      <th>10</th>\n",
       "      <td>NaN</td>\n",
       "      <td>0.0</td>\n",
       "    </tr>\n",
       "    <tr>\n",
       "      <th>2</th>\n",
       "      <td>NaN</td>\n",
       "      <td>0.0</td>\n",
       "    </tr>\n",
       "    <tr>\n",
       "      <th>3</th>\n",
       "      <td>NaN</td>\n",
       "      <td>0.0</td>\n",
       "    </tr>\n",
       "    <tr>\n",
       "      <th>4</th>\n",
       "      <td>NaN</td>\n",
       "      <td>0.0</td>\n",
       "    </tr>\n",
       "    <tr>\n",
       "      <th>5</th>\n",
       "      <td>NaN</td>\n",
       "      <td>0.0</td>\n",
       "    </tr>\n",
       "    <tr>\n",
       "      <th>6</th>\n",
       "      <td>NaN</td>\n",
       "      <td>0.0</td>\n",
       "    </tr>\n",
       "    <tr>\n",
       "      <th>7</th>\n",
       "      <td>NaN</td>\n",
       "      <td>0.0</td>\n",
       "    </tr>\n",
       "    <tr>\n",
       "      <th>8</th>\n",
       "      <td>NaN</td>\n",
       "      <td>0.0</td>\n",
       "    </tr>\n",
       "    <tr>\n",
       "      <th>9</th>\n",
       "      <td>NaN</td>\n",
       "      <td>0.0</td>\n",
       "    </tr>\n",
       "    <tr>\n",
       "      <th>Unnamed: 0</th>\n",
       "      <td>NaN</td>\n",
       "      <td>0.0</td>\n",
       "    </tr>\n",
       "    <tr>\n",
       "      <th>age</th>\n",
       "      <td>0.0</td>\n",
       "      <td>NaN</td>\n",
       "    </tr>\n",
       "    <tr>\n",
       "      <th>avg_training_score</th>\n",
       "      <td>0.0</td>\n",
       "      <td>NaN</td>\n",
       "    </tr>\n",
       "    <tr>\n",
       "      <th>awards_won?</th>\n",
       "      <td>0.0</td>\n",
       "      <td>NaN</td>\n",
       "    </tr>\n",
       "    <tr>\n",
       "      <th>department</th>\n",
       "      <td>0.0</td>\n",
       "      <td>NaN</td>\n",
       "    </tr>\n",
       "    <tr>\n",
       "      <th>education</th>\n",
       "      <td>2409.0</td>\n",
       "      <td>NaN</td>\n",
       "    </tr>\n",
       "    <tr>\n",
       "      <th>employee_id</th>\n",
       "      <td>0.0</td>\n",
       "      <td>NaN</td>\n",
       "    </tr>\n",
       "    <tr>\n",
       "      <th>gender</th>\n",
       "      <td>0.0</td>\n",
       "      <td>NaN</td>\n",
       "    </tr>\n",
       "    <tr>\n",
       "      <th>is_promoted</th>\n",
       "      <td>0.0</td>\n",
       "      <td>NaN</td>\n",
       "    </tr>\n",
       "    <tr>\n",
       "      <th>length_of_service</th>\n",
       "      <td>0.0</td>\n",
       "      <td>NaN</td>\n",
       "    </tr>\n",
       "    <tr>\n",
       "      <th>no_of_trainings</th>\n",
       "      <td>0.0</td>\n",
       "      <td>NaN</td>\n",
       "    </tr>\n",
       "    <tr>\n",
       "      <th>previous_year_rating</th>\n",
       "      <td>4124.0</td>\n",
       "      <td>NaN</td>\n",
       "    </tr>\n",
       "    <tr>\n",
       "      <th>recruitment_channel</th>\n",
       "      <td>0.0</td>\n",
       "      <td>NaN</td>\n",
       "    </tr>\n",
       "    <tr>\n",
       "      <th>region</th>\n",
       "      <td>0.0</td>\n",
       "      <td>NaN</td>\n",
       "    </tr>\n",
       "  </tbody>\n",
       "</table>\n",
       "</div>"
      ],
      "text/plain": [
       "                      Train_Total  Test_Total\n",
       "0                             NaN         0.0\n",
       "1                             NaN         0.0\n",
       "10                            NaN         0.0\n",
       "2                             NaN         0.0\n",
       "3                             NaN         0.0\n",
       "4                             NaN         0.0\n",
       "5                             NaN         0.0\n",
       "6                             NaN         0.0\n",
       "7                             NaN         0.0\n",
       "8                             NaN         0.0\n",
       "9                             NaN         0.0\n",
       "Unnamed: 0                    NaN         0.0\n",
       "age                           0.0         NaN\n",
       "avg_training_score            0.0         NaN\n",
       "awards_won?                   0.0         NaN\n",
       "department                    0.0         NaN\n",
       "education                  2409.0         NaN\n",
       "employee_id                   0.0         NaN\n",
       "gender                        0.0         NaN\n",
       "is_promoted                   0.0         NaN\n",
       "length_of_service             0.0         NaN\n",
       "no_of_trainings               0.0         NaN\n",
       "previous_year_rating       4124.0         NaN\n",
       "recruitment_channel           0.0         NaN\n",
       "region                        0.0         NaN"
      ]
     },
     "execution_count": 16,
     "metadata": {},
     "output_type": "execute_result"
    }
   ],
   "source": [
    "# Total no. of missing values in the dataset\n",
    "train_missing_data = pd.concat([data.isnull().sum(), test.isnull().sum()],\n",
    "                                axis=1, \n",
    "                                keys=['Train_Total','Test_Total'],\n",
    "                                sort = True)\n",
    "train_missing_data"
   ]
  },
  {
   "cell_type": "markdown",
   "id": "c7ba715e-f70d-4f3a-bdc8-0a5f754a87f3",
   "metadata": {},
   "source": [
    "The dataset has missing values in the columns education and previous_year rating in both train and test data. The missing values in the categorical column viz., education will be filled using Categorical Imputer and the numerical column viz., previous_year_rating using fillna() method."
   ]
  },
  {
   "cell_type": "code",
   "execution_count": 17,
   "id": "0aa163ec-27bd-47b4-9f5e-e53cc5fce6b5",
   "metadata": {},
   "outputs": [
    {
     "ename": "KeyError",
     "evalue": "\"None of [Index(['education'], dtype='object')] are in the [columns]\"",
     "output_type": "error",
     "traceback": [
      "\u001b[1;31m---------------------------------------------------------------------------\u001b[0m",
      "\u001b[1;31mKeyError\u001b[0m                                  Traceback (most recent call last)",
      "\u001b[1;32m~\\AppData\\Local\\Temp\\ipykernel_34328\\944013581.py\u001b[0m in \u001b[0;36m<module>\u001b[1;34m\u001b[0m\n\u001b[0;32m      1\u001b[0m \u001b[1;31m# Imputing the categorical variable 'education' using 'frequent' imputation method\u001b[0m\u001b[1;33m\u001b[0m\u001b[1;33m\u001b[0m\u001b[0m\n\u001b[0;32m      2\u001b[0m \u001b[0mdatatr\u001b[0m \u001b[1;33m=\u001b[0m \u001b[0mCategoricalImputer\u001b[0m\u001b[1;33m(\u001b[0m\u001b[0mvariables\u001b[0m\u001b[1;33m=\u001b[0m\u001b[1;33m[\u001b[0m\u001b[1;34m'education'\u001b[0m\u001b[1;33m]\u001b[0m\u001b[1;33m,\u001b[0m\u001b[0mimputation_method\u001b[0m\u001b[1;33m=\u001b[0m\u001b[1;34m'frequent'\u001b[0m\u001b[1;33m)\u001b[0m\u001b[1;33m.\u001b[0m\u001b[0mfit_transform\u001b[0m\u001b[1;33m(\u001b[0m\u001b[0mdata\u001b[0m\u001b[1;33m)\u001b[0m\u001b[1;33m\u001b[0m\u001b[1;33m\u001b[0m\u001b[0m\n\u001b[1;32m----> 3\u001b[1;33m \u001b[0mdatatest\u001b[0m\u001b[1;33m=\u001b[0m \u001b[0mCategoricalImputer\u001b[0m\u001b[1;33m(\u001b[0m\u001b[0mvariables\u001b[0m\u001b[1;33m=\u001b[0m\u001b[1;33m[\u001b[0m\u001b[1;34m'education'\u001b[0m\u001b[1;33m]\u001b[0m\u001b[1;33m,\u001b[0m\u001b[0mimputation_method\u001b[0m\u001b[1;33m=\u001b[0m\u001b[1;34m'frequent'\u001b[0m\u001b[1;33m)\u001b[0m\u001b[1;33m.\u001b[0m\u001b[0mfit_transform\u001b[0m\u001b[1;33m(\u001b[0m\u001b[0mtest\u001b[0m\u001b[1;33m)\u001b[0m\u001b[1;33m\u001b[0m\u001b[1;33m\u001b[0m\u001b[0m\n\u001b[0m",
      "\u001b[1;32m~\\anaconda3\\lib\\site-packages\\sklearn\\base.py\u001b[0m in \u001b[0;36mfit_transform\u001b[1;34m(self, X, y, **fit_params)\u001b[0m\n\u001b[0;32m    850\u001b[0m         \u001b[1;32mif\u001b[0m \u001b[0my\u001b[0m \u001b[1;32mis\u001b[0m \u001b[1;32mNone\u001b[0m\u001b[1;33m:\u001b[0m\u001b[1;33m\u001b[0m\u001b[1;33m\u001b[0m\u001b[0m\n\u001b[0;32m    851\u001b[0m             \u001b[1;31m# fit method of arity 1 (unsupervised transformation)\u001b[0m\u001b[1;33m\u001b[0m\u001b[1;33m\u001b[0m\u001b[0m\n\u001b[1;32m--> 852\u001b[1;33m             \u001b[1;32mreturn\u001b[0m \u001b[0mself\u001b[0m\u001b[1;33m.\u001b[0m\u001b[0mfit\u001b[0m\u001b[1;33m(\u001b[0m\u001b[0mX\u001b[0m\u001b[1;33m,\u001b[0m \u001b[1;33m**\u001b[0m\u001b[0mfit_params\u001b[0m\u001b[1;33m)\u001b[0m\u001b[1;33m.\u001b[0m\u001b[0mtransform\u001b[0m\u001b[1;33m(\u001b[0m\u001b[0mX\u001b[0m\u001b[1;33m)\u001b[0m\u001b[1;33m\u001b[0m\u001b[1;33m\u001b[0m\u001b[0m\n\u001b[0m\u001b[0;32m    853\u001b[0m         \u001b[1;32melse\u001b[0m\u001b[1;33m:\u001b[0m\u001b[1;33m\u001b[0m\u001b[1;33m\u001b[0m\u001b[0m\n\u001b[0;32m    854\u001b[0m             \u001b[1;31m# fit method of arity 2 (supervised transformation)\u001b[0m\u001b[1;33m\u001b[0m\u001b[1;33m\u001b[0m\u001b[0m\n",
      "\u001b[1;32m~\\anaconda3\\lib\\site-packages\\feature_engine\\imputation\\categorical.py\u001b[0m in \u001b[0;36mfit\u001b[1;34m(self, X, y)\u001b[0m\n\u001b[0;32m    168\u001b[0m             self.variables_: List[\n\u001b[0;32m    169\u001b[0m                 \u001b[0mUnion\u001b[0m\u001b[1;33m[\u001b[0m\u001b[0mstr\u001b[0m\u001b[1;33m,\u001b[0m \u001b[0mint\u001b[0m\u001b[1;33m]\u001b[0m\u001b[1;33m\u001b[0m\u001b[1;33m\u001b[0m\u001b[0m\n\u001b[1;32m--> 170\u001b[1;33m             ] = _find_or_check_categorical_variables(X, self.variables)\n\u001b[0m\u001b[0;32m    171\u001b[0m         \u001b[1;32melse\u001b[0m\u001b[1;33m:\u001b[0m\u001b[1;33m\u001b[0m\u001b[1;33m\u001b[0m\u001b[0m\n\u001b[0;32m    172\u001b[0m             \u001b[1;31m# select all variables or check variables entered by the user\u001b[0m\u001b[1;33m\u001b[0m\u001b[1;33m\u001b[0m\u001b[0m\n",
      "\u001b[1;32m~\\anaconda3\\lib\\site-packages\\feature_engine\\_variable_handling\\variable_type_selection.py\u001b[0m in \u001b[0;36m_find_or_check_categorical_variables\u001b[1;34m(X, variables)\u001b[0m\n\u001b[0;32m    120\u001b[0m         \u001b[1;31m# check that user entered variables are of type categorical\u001b[0m\u001b[1;33m\u001b[0m\u001b[1;33m\u001b[0m\u001b[0m\n\u001b[0;32m    121\u001b[0m         \u001b[1;32melse\u001b[0m\u001b[1;33m:\u001b[0m\u001b[1;33m\u001b[0m\u001b[1;33m\u001b[0m\u001b[0m\n\u001b[1;32m--> 122\u001b[1;33m             \u001b[1;32mif\u001b[0m \u001b[0mlen\u001b[0m\u001b[1;33m(\u001b[0m\u001b[0mX\u001b[0m\u001b[1;33m[\u001b[0m\u001b[0mvariables\u001b[0m\u001b[1;33m]\u001b[0m\u001b[1;33m.\u001b[0m\u001b[0mselect_dtypes\u001b[0m\u001b[1;33m(\u001b[0m\u001b[0mexclude\u001b[0m\u001b[1;33m=\u001b[0m\u001b[1;33m[\u001b[0m\u001b[1;34m\"O\"\u001b[0m\u001b[1;33m,\u001b[0m \u001b[1;34m\"category\"\u001b[0m\u001b[1;33m]\u001b[0m\u001b[1;33m)\u001b[0m\u001b[1;33m.\u001b[0m\u001b[0mcolumns\u001b[0m\u001b[1;33m)\u001b[0m \u001b[1;33m>\u001b[0m \u001b[1;36m0\u001b[0m\u001b[1;33m:\u001b[0m\u001b[1;33m\u001b[0m\u001b[1;33m\u001b[0m\u001b[0m\n\u001b[0m\u001b[0;32m    123\u001b[0m                 raise TypeError(\n\u001b[0;32m    124\u001b[0m                     \u001b[1;34m\"Some of the variables are not categorical. Please cast them as \"\u001b[0m\u001b[1;33m\u001b[0m\u001b[1;33m\u001b[0m\u001b[0m\n",
      "\u001b[1;32m~\\anaconda3\\lib\\site-packages\\pandas\\core\\frame.py\u001b[0m in \u001b[0;36m__getitem__\u001b[1;34m(self, key)\u001b[0m\n\u001b[0;32m   3509\u001b[0m             \u001b[1;32mif\u001b[0m \u001b[0mis_iterator\u001b[0m\u001b[1;33m(\u001b[0m\u001b[0mkey\u001b[0m\u001b[1;33m)\u001b[0m\u001b[1;33m:\u001b[0m\u001b[1;33m\u001b[0m\u001b[1;33m\u001b[0m\u001b[0m\n\u001b[0;32m   3510\u001b[0m                 \u001b[0mkey\u001b[0m \u001b[1;33m=\u001b[0m \u001b[0mlist\u001b[0m\u001b[1;33m(\u001b[0m\u001b[0mkey\u001b[0m\u001b[1;33m)\u001b[0m\u001b[1;33m\u001b[0m\u001b[1;33m\u001b[0m\u001b[0m\n\u001b[1;32m-> 3511\u001b[1;33m             \u001b[0mindexer\u001b[0m \u001b[1;33m=\u001b[0m \u001b[0mself\u001b[0m\u001b[1;33m.\u001b[0m\u001b[0mcolumns\u001b[0m\u001b[1;33m.\u001b[0m\u001b[0m_get_indexer_strict\u001b[0m\u001b[1;33m(\u001b[0m\u001b[0mkey\u001b[0m\u001b[1;33m,\u001b[0m \u001b[1;34m\"columns\"\u001b[0m\u001b[1;33m)\u001b[0m\u001b[1;33m[\u001b[0m\u001b[1;36m1\u001b[0m\u001b[1;33m]\u001b[0m\u001b[1;33m\u001b[0m\u001b[1;33m\u001b[0m\u001b[0m\n\u001b[0m\u001b[0;32m   3512\u001b[0m \u001b[1;33m\u001b[0m\u001b[0m\n\u001b[0;32m   3513\u001b[0m         \u001b[1;31m# take() does not accept boolean indexers\u001b[0m\u001b[1;33m\u001b[0m\u001b[1;33m\u001b[0m\u001b[0m\n",
      "\u001b[1;32m~\\anaconda3\\lib\\site-packages\\pandas\\core\\indexes\\base.py\u001b[0m in \u001b[0;36m_get_indexer_strict\u001b[1;34m(self, key, axis_name)\u001b[0m\n\u001b[0;32m   5794\u001b[0m             \u001b[0mkeyarr\u001b[0m\u001b[1;33m,\u001b[0m \u001b[0mindexer\u001b[0m\u001b[1;33m,\u001b[0m \u001b[0mnew_indexer\u001b[0m \u001b[1;33m=\u001b[0m \u001b[0mself\u001b[0m\u001b[1;33m.\u001b[0m\u001b[0m_reindex_non_unique\u001b[0m\u001b[1;33m(\u001b[0m\u001b[0mkeyarr\u001b[0m\u001b[1;33m)\u001b[0m\u001b[1;33m\u001b[0m\u001b[1;33m\u001b[0m\u001b[0m\n\u001b[0;32m   5795\u001b[0m \u001b[1;33m\u001b[0m\u001b[0m\n\u001b[1;32m-> 5796\u001b[1;33m         \u001b[0mself\u001b[0m\u001b[1;33m.\u001b[0m\u001b[0m_raise_if_missing\u001b[0m\u001b[1;33m(\u001b[0m\u001b[0mkeyarr\u001b[0m\u001b[1;33m,\u001b[0m \u001b[0mindexer\u001b[0m\u001b[1;33m,\u001b[0m \u001b[0maxis_name\u001b[0m\u001b[1;33m)\u001b[0m\u001b[1;33m\u001b[0m\u001b[1;33m\u001b[0m\u001b[0m\n\u001b[0m\u001b[0;32m   5797\u001b[0m \u001b[1;33m\u001b[0m\u001b[0m\n\u001b[0;32m   5798\u001b[0m         \u001b[0mkeyarr\u001b[0m \u001b[1;33m=\u001b[0m \u001b[0mself\u001b[0m\u001b[1;33m.\u001b[0m\u001b[0mtake\u001b[0m\u001b[1;33m(\u001b[0m\u001b[0mindexer\u001b[0m\u001b[1;33m)\u001b[0m\u001b[1;33m\u001b[0m\u001b[1;33m\u001b[0m\u001b[0m\n",
      "\u001b[1;32m~\\anaconda3\\lib\\site-packages\\pandas\\core\\indexes\\base.py\u001b[0m in \u001b[0;36m_raise_if_missing\u001b[1;34m(self, key, indexer, axis_name)\u001b[0m\n\u001b[0;32m   5854\u001b[0m                 \u001b[1;32mif\u001b[0m \u001b[0muse_interval_msg\u001b[0m\u001b[1;33m:\u001b[0m\u001b[1;33m\u001b[0m\u001b[1;33m\u001b[0m\u001b[0m\n\u001b[0;32m   5855\u001b[0m                     \u001b[0mkey\u001b[0m \u001b[1;33m=\u001b[0m \u001b[0mlist\u001b[0m\u001b[1;33m(\u001b[0m\u001b[0mkey\u001b[0m\u001b[1;33m)\u001b[0m\u001b[1;33m\u001b[0m\u001b[1;33m\u001b[0m\u001b[0m\n\u001b[1;32m-> 5856\u001b[1;33m                 \u001b[1;32mraise\u001b[0m \u001b[0mKeyError\u001b[0m\u001b[1;33m(\u001b[0m\u001b[1;34mf\"None of [{key}] are in the [{axis_name}]\"\u001b[0m\u001b[1;33m)\u001b[0m\u001b[1;33m\u001b[0m\u001b[1;33m\u001b[0m\u001b[0m\n\u001b[0m\u001b[0;32m   5857\u001b[0m \u001b[1;33m\u001b[0m\u001b[0m\n\u001b[0;32m   5858\u001b[0m             \u001b[0mnot_found\u001b[0m \u001b[1;33m=\u001b[0m \u001b[0mlist\u001b[0m\u001b[1;33m(\u001b[0m\u001b[0mensure_index\u001b[0m\u001b[1;33m(\u001b[0m\u001b[0mkey\u001b[0m\u001b[1;33m)\u001b[0m\u001b[1;33m[\u001b[0m\u001b[0mmissing_mask\u001b[0m\u001b[1;33m.\u001b[0m\u001b[0mnonzero\u001b[0m\u001b[1;33m(\u001b[0m\u001b[1;33m)\u001b[0m\u001b[1;33m[\u001b[0m\u001b[1;36m0\u001b[0m\u001b[1;33m]\u001b[0m\u001b[1;33m]\u001b[0m\u001b[1;33m.\u001b[0m\u001b[0munique\u001b[0m\u001b[1;33m(\u001b[0m\u001b[1;33m)\u001b[0m\u001b[1;33m)\u001b[0m\u001b[1;33m\u001b[0m\u001b[1;33m\u001b[0m\u001b[0m\n",
      "\u001b[1;31mKeyError\u001b[0m: \"None of [Index(['education'], dtype='object')] are in the [columns]\""
     ]
    }
   ],
   "source": [
    "# Imputing the categorical variable 'education' using 'frequent' imputation method\n",
    "datatr = CategoricalImputer(variables=['education'],imputation_method='frequent').fit_transform(data)\n",
    "datatest= CategoricalImputer(variables=['education'],imputation_method='frequent').fit_transform(test)"
   ]
  },
  {
   "cell_type": "code",
   "execution_count": null,
   "id": "878bc274-20ea-4218-9f57-3b07cca22a4f",
   "metadata": {},
   "outputs": [],
   "source": [
    "data['previous_year_rating'].value_counts()"
   ]
  },
  {
   "cell_type": "code",
   "execution_count": null,
   "id": "3874704a-c6e5-432f-ada5-8c71920ddb3e",
   "metadata": {},
   "outputs": [],
   "source": [
    "# Imputing the numerical variable 'previous_year_rating' using pandas fillna() method\n",
    "datatr['previous_year_rating'].fillna(datatr['previous_year_rating'].median(), inplace=True)\n",
    "datatest['previous_year_rating'].fillna(datatest['previous_year_rating'].median(), inplace=True)"
   ]
  },
  {
   "cell_type": "markdown",
   "id": "3acaf925-f147-4ca9-9b5b-bdfb32e0eefa",
   "metadata": {},
   "source": [
    "Since the variable has only 5 unique values 1,2,3,4,5 and no decimals in between, imputing with mean values can include values with decimals. Hence median was chosen."
   ]
  },
  {
   "cell_type": "code",
   "execution_count": null,
   "id": "714f5689-bd1a-448c-bc16-32f3e7c68231",
   "metadata": {},
   "outputs": [],
   "source": [
    "# Total no. of missing values in the dataset\n",
    "train_missing_data_new = pd.concat([datatr.isnull().sum(), datatest.isnull().sum()],\n",
    "                                axis=1, \n",
    "                                keys=['Train_Total','Test_Total'],\n",
    "                                sort = True)\n",
    "train_missing_data_new"
   ]
  },
  {
   "cell_type": "markdown",
   "id": "35235a26-2cd4-4c3c-8d58-f364539e90ed",
   "metadata": {},
   "source": [
    "## Outlier Detection"
   ]
  },
  {
   "cell_type": "code",
   "execution_count": null,
   "id": "73f3ee0a-fb23-43a1-94d5-0bf2986cd329",
   "metadata": {},
   "outputs": [],
   "source": [
    "datatr.select_dtypes('number').head()"
   ]
  },
  {
   "cell_type": "code",
   "execution_count": null,
   "id": "f15c309a-ba25-427b-ad9f-b7e187a5efac",
   "metadata": {},
   "outputs": [],
   "source": [
    "datatr['no_of_trainings'].value_counts()"
   ]
  },
  {
   "cell_type": "code",
   "execution_count": null,
   "id": "7cacbf10-545b-43b4-9132-ee2ca7285170",
   "metadata": {},
   "outputs": [],
   "source": [
    "datatr['awards_won?'].value_counts()"
   ]
  },
  {
   "cell_type": "code",
   "execution_count": null,
   "id": "74d49707-415e-4469-bb9e-8b2d03240592",
   "metadata": {},
   "outputs": [],
   "source": [
    "datatr['avg_training_score'].value_counts()"
   ]
  },
  {
   "cell_type": "code",
   "execution_count": null,
   "id": "da61b957-4b50-4fb5-9545-c4ad61765cb6",
   "metadata": {},
   "outputs": [],
   "source": [
    "datatr['length_of_service'].value_counts()"
   ]
  },
  {
   "cell_type": "markdown",
   "id": "e221f2a3-b669-4eea-a9ea-ecd2bacd1c4a",
   "metadata": {},
   "source": [
    "avg_training_score and length_of_service might have outliers."
   ]
  },
  {
   "cell_type": "code",
   "execution_count": null,
   "id": "32dce933-19ed-40cf-a194-b7698f61b3e8",
   "metadata": {},
   "outputs": [],
   "source": [
    "# Boxplots for columns \n",
    "plt.rcParams['figure.figsize'] = (15, 5)\n",
    "plt.style.use('fivethirtyeight')\n",
    "\n",
    "# Box plot for average training score\n",
    "plt.subplot(1, 2, 1)\n",
    "sns.boxplot(datatr['avg_training_score'], color = 'red')\n",
    "plt.xlabel('Average Training Score', fontsize = 12)\n",
    "plt.ylabel('Range', fontsize = 12)\n",
    "\n",
    "# Box plot for length of service\n",
    "plt.subplot(1, 2, 2)\n",
    "sns.boxplot(datatr['length_of_service'], color = 'red')\n",
    "plt.xlabel('Length of Service', fontsize = 12)\n",
    "plt.ylabel('Range', fontsize = 12)\n",
    "\n",
    "plt.suptitle('Box Plot', fontsize = 20)\n",
    "plt.show()"
   ]
  },
  {
   "cell_type": "code",
   "execution_count": null,
   "id": "f18130f7-45e8-44fc-b44e-2bffddc3fd13",
   "metadata": {},
   "outputs": [],
   "source": []
  },
  {
   "cell_type": "code",
   "execution_count": null,
   "id": "1661d3d0-7f37-4784-9135-3b7e52f382c7",
   "metadata": {},
   "outputs": [],
   "source": [
    "datatr[datatr['length_of_service'] > 13]"
   ]
  },
  {
   "cell_type": "markdown",
   "id": "2f1012da-96b9-4147-adc2-581a44142278",
   "metadata": {},
   "source": [
    "There are 3489 outliers in the variable length_of_service. These values can be deleted."
   ]
  },
  {
   "cell_type": "code",
   "execution_count": null,
   "id": "1eef7f7a-defd-404c-8078-9aebf8e4754c",
   "metadata": {},
   "outputs": [],
   "source": [
    "# lets plot pie chart for the columns where we have very few categories\n",
    "plt.rcParams['figure.figsize'] = (16,5)\n",
    "plt.style.use('fivethirtyeight')\n",
    "\n",
    "# plotting a pie chart to represent share of Previous year Rating of the Employees\n",
    "plt.subplot(1, 2, 1)\n",
    "labels = ['1', '2', '3', '4', '5']\n",
    "sizes = datatr['previous_year_rating'].value_counts()\n",
    "colors = plt.cm.Wistia(np.linspace(0, 1, 5))\n",
    "explode = [0, 0, 0, 0, 0.1]\n",
    "\n",
    "plt.pie(sizes, labels = labels, colors = colors, explode = explode, shadow = True, startangle = 90)\n",
    "plt.title('Previous year Ratings', fontsize = 20)\n",
    "plt.legend()\n",
    "\n",
    "# plotting a pie chart to represent share of Previous year Rating of the Employees\n",
    "plt.subplot(1, 2, 2)\n",
    "labels = ['0', '1']\n",
    "sizes = datatr['awards_won?'].value_counts()\n",
    "colors = plt.cm.Wistia(np.linspace(0, 1, 5))\n",
    "explode = [0,0.1]\n",
    "\n",
    "plt.pie(sizes, labels = labels, colors = colors, explode = explode, shadow = True, startangle = 90)\n",
    "plt.title('Awards Won?', fontsize = 20)\n",
    "\n",
    "\n",
    "plt.legend()\n",
    "plt.show()"
   ]
  },
  {
   "cell_type": "markdown",
   "id": "8f74591e-dc0e-4bd8-9d93-44309e275a96",
   "metadata": {},
   "source": [
    "The previous year's rating is low for most employees, with only a few being recognized with awards."
   ]
  },
  {
   "cell_type": "code",
   "execution_count": null,
   "id": "4ad4b1ae-4fc8-4808-b0bc-bcad052f6a7e",
   "metadata": {},
   "outputs": [],
   "source": [
    "#distribution of trainings undertaken by the employees\n",
    "\n",
    "plt.rcParams['figure.figsize'] = (17, 4)\n",
    "sns.countplot(datatr['no_of_trainings'], palette = 'autumn')\n",
    "plt.xlabel(' ', fontsize = 16)\n",
    "plt.title('Distribution of Trainings undertaken by the Employees')\n",
    "plt.show()"
   ]
  },
  {
   "cell_type": "markdown",
   "id": "6608a9f1-0471-4d94-ba9d-3a39a93024ef",
   "metadata": {},
   "source": [
    "The majority of employees have completed training only once, while only a negligible number of employees have taken the training more than three times."
   ]
  },
  {
   "cell_type": "code",
   "execution_count": null,
   "id": "227d888f-97b4-467e-87a6-bb4d0fa34212",
   "metadata": {},
   "outputs": [],
   "source": [
    "#Age of the Employees\n",
    "\n",
    "plt.rcParams['figure.figsize'] = (8, 4)\n",
    "plt.hist(datatr['age'], color = 'green')\n",
    "plt.title('Distribution of Age among the Employees', fontsize = 15)\n",
    "plt.xlabel('Age of the Employees')\n",
    "plt.grid()\n",
    "plt.show()"
   ]
  },
  {
   "cell_type": "markdown",
   "id": "67980c0f-f35c-471f-9888-092fe7ae728c",
   "metadata": {},
   "source": []
  },
  {
   "cell_type": "code",
   "execution_count": null,
   "id": "679651dd-2914-405d-a39a-e5cda626a702",
   "metadata": {},
   "outputs": [],
   "source": [
    "#Departments\n",
    "\n",
    "plt.rcParams['figure.figsize'] = (12, 6)\n",
    "sns.countplot(y = datatr['department'], palette = 'spring', orient = 'v')\n",
    "plt.xlabel('')\n",
    "plt.ylabel('Department Name')\n",
    "plt.title('Distribution of Employees in Different Departments', fontsize = 15)\n",
    "plt.grid()\n",
    "\n",
    "plt.show()"
   ]
  },
  {
   "cell_type": "code",
   "execution_count": null,
   "id": "44ae109a-3cbd-4081-b1e2-16eea4f44ea0",
   "metadata": {},
   "outputs": [],
   "source": [
    "#distribution of different Regions\n",
    "\n",
    "plt.rcParams['figure.figsize'] = (12,15)\n",
    "plt.style.use('fivethirtyeight')\n",
    "sns.countplot(y = datatr['region'], palette = 'cividis', orient = 'v')\n",
    "plt.xlabel('')\n",
    "plt.ylabel('Region')\n",
    "plt.title('Different Regions', fontsize = 15)\n",
    "plt.xticks(rotation = 90)\n",
    "plt.grid()\n",
    "plt.show()"
   ]
  },
  {
   "cell_type": "code",
   "execution_count": null,
   "id": "372cc79b-f30b-4d70-b4d1-4377de6d53ea",
   "metadata": {},
   "outputs": [],
   "source": [
    "# lets plot pie chart for the columns where we have very few categories\n",
    "plt.rcParams['figure.figsize'] = (16,5)\n",
    "\n",
    "# plotting a pie chart to represent share of Previous year Rating of the Employees\n",
    "plt.subplot(1, 3, 1)\n",
    "labels = datatr['education'].value_counts().index\n",
    "sizes = datatr['education'].value_counts()\n",
    "colors = plt.cm.copper(np.linspace(0, 1, 5))\n",
    "explode = [0, 0, 0.1]\n",
    "\n",
    "plt.pie(sizes, labels = labels, colors = colors, explode = explode, shadow = True, startangle = 90)\n",
    "plt.title('Education', fontsize = 20)\n",
    "\n",
    "# plotting a pie chart to represent share of Previous year Rating of the Employees\n",
    "plt.subplot(1, 3, 2)\n",
    "labels = datatr['gender'].value_counts().index\n",
    "sizes = datatr['gender'].value_counts()\n",
    "colors = plt.cm.copper(np.linspace(0, 1, 5))\n",
    "explode = [0, 0]\n",
    "\n",
    "plt.pie(sizes, labels = labels, colors = colors, explode = explode, shadow = True, startangle = 90)\n",
    "plt.title('Gender', fontsize = 20)\n",
    "\n",
    "# plotting a pie chart to represent share of Previous year Rating of the Employees\n",
    "plt.subplot(1, 3, 3)\n",
    "labels = datatr['recruitment_channel'].value_counts().index\n",
    "sizes = datatr['recruitment_channel'].value_counts()\n",
    "colors = plt.cm.copper(np.linspace(0, 1, 5))\n",
    "explode = [0,0,0.1]\n",
    "\n",
    "plt.pie(sizes, labels = labels, colors = colors, explode=explode,shadow = True, startangle = 0)\n",
    "plt.title('Recruitment Channel', fontsize = 20)\n",
    "\n",
    "plt.show()"
   ]
  },
  {
   "cell_type": "markdown",
   "id": "17921c35-458e-436f-8058-ac7790b6dd4b",
   "metadata": {},
   "source": [
    "Very few of the employees have a qualification of below secondary and most of the employees have a Bachelor's degree. Female employees are less than male employees. Referred employees are a minority and majority of the recruitment is through sourcing and other channels"
   ]
  },
  {
   "cell_type": "markdown",
   "id": "6ee323fc-5bdb-415f-990d-7f4b4db777f8",
   "metadata": {},
   "source": [
    "## Bivariate Analysis"
   ]
  },
  {
   "cell_type": "markdown",
   "id": "790a877f-cd81-4dd9-93dc-1ba85bab98ab",
   "metadata": {},
   "source": [
    "Categorical vs Categorical Analysis using Stacked and Grouped Bar Charts with the help of crosstab function"
   ]
  },
  {
   "cell_type": "code",
   "execution_count": null,
   "id": "ad347882-3460-4fd2-8e74-15610929106a",
   "metadata": {},
   "outputs": [],
   "source": [
    "# Gender Gap in the promotion\n",
    "\n",
    "import warnings\n",
    "warnings.filterwarnings('ignore')\n",
    "\n",
    "plt.rcParams['figure.figsize'] = (15, 3)\n",
    "x = pd.crosstab(datatr['gender'], datatr['is_promoted'])\n",
    "colors = plt.cm.Wistia(np.linspace(0, 1, 5))\n",
    "x.div(x.sum(1).astype(float), axis = 0).plot(kind = 'bar', stacked = False)\n",
    "plt.title('Effect of Gender on Promotion', fontsize = 15)\n",
    "plt.xlabel(' ')\n",
    "plt.show()"
   ]
  },
  {
   "cell_type": "markdown",
   "id": "0f62a162-132c-4717-b6bd-cd614f3dca2e",
   "metadata": {},
   "source": [
    "Even though the number of female employees are lower than that of male employees, it doesn't have an effect on promotion. Both the genders are having similar chances of promotion"
   ]
  },
  {
   "cell_type": "code",
   "execution_count": null,
   "id": "0946699b-dc0c-4064-8a36-02f1be6323e7",
   "metadata": {},
   "outputs": [],
   "source": [
    "#effect of different Departments and Promotion\n",
    "\n",
    "plt.rcParams['figure.figsize'] = (15,4)\n",
    "x = pd.crosstab(datatr['department'], datatr['is_promoted'])\n",
    "colors = plt.cm.Wistia(np.linspace(0, 1, 5))\n",
    "x.div(x.sum(1).astype(float), axis = 0).plot(kind = 'bar', stacked = True)\n",
    "plt.title('Effect of Department on Promotion', fontsize = 15)\n",
    "plt.xticks(rotation = 20)\n",
    "plt.xlabel(' ')\n",
    "plt.show()"
   ]
  },
  {
   "cell_type": "markdown",
   "id": "62e8de3b-9188-4262-90ee-8b0ccc0dffdb",
   "metadata": {},
   "source": [
    "All the departments have similar levels of promotion. "
   ]
  },
  {
   "cell_type": "markdown",
   "id": "b5f96b0f-2460-4fcb-991a-04a82831aad0",
   "metadata": {},
   "source": [
    "Categorical vs Numerical Analysis using Bar Charts, Box plots, Strip plots, Swarm plots, Boxen plots, Violin Plots, etc"
   ]
  },
  {
   "cell_type": "code",
   "execution_count": null,
   "id": "012daeb9-ea2e-4ee4-8e3a-1a39f762d75d",
   "metadata": {},
   "outputs": [],
   "source": [
    "# Effect of Age on the Promotion\n",
    "\n",
    "plt.rcParams['figure.figsize'] = (15,4)\n",
    "sns.boxenplot(datatr['is_promoted'], datatr['age'], palette = 'inferno')\n",
    "plt.title('Effect of Age on Promotion', fontsize = 15)\n",
    "plt.xlabel('Is the Employee Promoted?', fontsize = 10)\n",
    "plt.ylabel('Age of the Employee', fontsize = 10)\n",
    "plt.show()"
   ]
  },
  {
   "cell_type": "code",
   "execution_count": null,
   "id": "69861ca5-36b8-4203-bf47-220df14f6484",
   "metadata": {},
   "outputs": [],
   "source": [
    "# Department Vs Average Training Score\n",
    "\n",
    "plt.rcParams['figure.figsize'] = (16, 7)\n",
    "sns.boxplot(datatr['department'], datatr['avg_training_score'], palette = 'PuRd')\n",
    "plt.title('Average Training Scores from each Department', fontsize = 15)\n",
    "plt.ylabel('Promoted or not', fontsize = 10)\n",
    "plt.xlabel('Departments', fontsize = 10)\n",
    "plt.show()"
   ]
  },
  {
   "cell_type": "markdown",
   "id": "48e70c6c-e565-4838-a841-6f3c98af3aea",
   "metadata": {},
   "source": [
    "Numerical vs Numerical Analysis using Scatter plots"
   ]
  },
  {
   "cell_type": "code",
   "execution_count": null,
   "id": "f27a9acd-34b9-4639-af65-89ba62f371a3",
   "metadata": {},
   "outputs": [],
   "source": [
    "# Age Vs Length of service\n",
    "\n",
    "plt.rcParams['figure.figsize'] = (16, 7)\n",
    "sns.scatterplot(datatr['age'], datatr['length_of_service'], palette = 'PuRd')\n",
    "plt.title('Age Vs Length of service', fontsize = 15)\n",
    "plt.ylabel('Promoted or not', fontsize = 10)\n",
    "plt.xlabel('Departments', fontsize = 10)\n",
    "plt.show()"
   ]
  },
  {
   "cell_type": "markdown",
   "id": "07e9dbdb-c547-4878-a075-1ff0169c0541",
   "metadata": {},
   "source": [
    "## Multivariate Analysis"
   ]
  },
  {
   "cell_type": "code",
   "execution_count": null,
   "id": "2f965947-49bd-4d88-b873-eec26b86cf53",
   "metadata": {},
   "outputs": [],
   "source": [
    "# lets check the Heat Map for the Data with respect to correlation.\n",
    "\n",
    "plt.rcParams['figure.figsize'] = (15, 8)\n",
    "sns.heatmap(datatr.corr(), annot = True, linewidth = 0.5, cmap = 'Wistia')\n",
    "plt.title('Correlation Heat Map', fontsize = 15)\n",
    "plt.show()"
   ]
  },
  {
   "cell_type": "code",
   "execution_count": null,
   "id": "bbea2cb7-08f4-4227-b3a1-74b92077af8a",
   "metadata": {},
   "outputs": [],
   "source": [
    "# relation of Departments and Promotions when they won awards ?\n",
    "\n",
    "plt.rcParams['figure.figsize'] = (16, 7)\n",
    "sns.barplot(datatr['department'], datatr['avg_training_score'], hue = datatr['gender'], palette = 'spring')\n",
    "plt.title('Chances of Promotion in each Department when they have won some Awards too', fontsize = 15)\n",
    "plt.ylabel('Promoted or not', fontsize = 10)\n",
    "plt.xlabel('Departments', fontsize = 10)\n",
    "plt.show()"
   ]
  },
  {
   "cell_type": "markdown",
   "id": "b7004bbf-940b-468c-8310-ed2087287fb1",
   "metadata": {},
   "source": []
  },
  {
   "cell_type": "markdown",
   "id": "63349840-79cb-4df2-acb4-99cf8734c7e7",
   "metadata": {},
   "source": [
    "## Feature Engineering"
   ]
  },
  {
   "cell_type": "code",
   "execution_count": null,
   "id": "c35489f6-a01d-4c19-b504-d4697b37aad4",
   "metadata": {},
   "outputs": [],
   "source": [
    "# lets create some extra features from existing features to improve our Model\n",
    "\n",
    "# creating a Metric of Sum\n",
    "datatr['sum_metric'] = datatr['awards_won?']+ datatr['previous_year_rating']\n",
    "datatest['sum_metric'] = datatest['awards_won?'] + datatest['previous_year_rating']\n",
    "\n",
    "# creating a total score column\n",
    "datatr['total_score'] = datatr['avg_training_score'] * datatr['no_of_trainings']\n",
    "datatest['total_score'] = datatest['avg_training_score'] * datatest['no_of_trainings']"
   ]
  },
  {
   "cell_type": "code",
   "execution_count": null,
   "id": "daa5a87d-4110-4547-a017-25dc1b86341b",
   "metadata": {},
   "outputs": [],
   "source": [
    "#Dropping irrelevant fields\n",
    "datatr = datatr.drop(['recruitment_channel', 'region', 'employee_id'], axis = 1)\n",
    "datatest = datatest.drop(['recruitment_channel', 'region', 'employee_id'], axis = 1)\n",
    "\n",
    "# lets check the columns in train and test data set after feature engineering\n",
    "datatr.columns"
   ]
  },
  {
   "cell_type": "code",
   "execution_count": null,
   "id": "1fa4d465-516f-47df-8452-461fa46b940b",
   "metadata": {},
   "outputs": [],
   "source": [
    "#The no. of employee who did not get an award, previous_year_rating as 1 and avg_training score is less than 60 but, still got promotion.\n",
    "datatr[(datatr['previous_year_rating'] == 1.0) & (datatr['awards_won?'] == 0) & (datatr['avg_training_score'] < 60) & (datatr['is_promoted'] == 1)]"
   ]
  },
  {
   "cell_type": "code",
   "execution_count": null,
   "id": "edce21a9-6bd7-45f5-8ad0-dfc37aa4bc82",
   "metadata": {},
   "outputs": [],
   "source": [
    "datatr = datatr.drop(datatr[(datatr['previous_year_rating'] == 1.0) & (datatr['awards_won?'] == 0) & (datatr['avg_training_score'] < 60) & (datatr['is_promoted'] == 1)].index)"
   ]
  },
  {
   "cell_type": "code",
   "execution_count": null,
   "id": "e7179f61-73e5-477e-a6b7-eb5f45d8ba85",
   "metadata": {},
   "outputs": [],
   "source": [
    "#categorical columns present in the data\n",
    "datatr.select_dtypes('object').head()"
   ]
  },
  {
   "cell_type": "code",
   "execution_count": null,
   "id": "6862fd7c-2626-4859-9f75-bb0c5a1d69c5",
   "metadata": {},
   "outputs": [],
   "source": [
    "datatr['education'].value_counts()"
   ]
  },
  {
   "cell_type": "markdown",
   "id": "e369a973-6db1-466f-857b-ee086a788a24",
   "metadata": {},
   "source": [
    "The education variable is ordinal and hence the values should be encoded according to their degree of importance "
   ]
  },
  {
   "cell_type": "code",
   "execution_count": null,
   "id": "6393690e-8d3f-4728-be8e-919ccc88a74a",
   "metadata": {},
   "outputs": [],
   "source": [
    "# Encoding these categorical columns to convert them into numerical columns\n",
    "\n",
    "# Encode the education in their degree of importance \n",
    "datatr['education'] = datatr['education'].replace((\"Master's & above\", \"Bachelor's\", \"Below Secondary\"),\n",
    "                                                (3, 2, 1))\n",
    "datatest['education'] = datatest['education'].replace((\"Master's & above\", \"Bachelor's\", \"Below Secondary\"),\n",
    "                                                (3, 2, 1))\n",
    "\n",
    "# lets use Label Encoding for Gender and Department to convert them into Numerical\n",
    "from sklearn.preprocessing import LabelEncoder\n",
    "\n",
    "le = LabelEncoder()\n",
    "datatr['department'] = le.fit_transform(datatr['department'])\n",
    "datatest['department'] = le.fit_transform(datatest['department'])\n",
    "datatr['gender'] = le.fit_transform(datatr['gender'])\n",
    "datatest['gender'] = le.fit_transform(datatest['gender'])\n",
    "\n",
    "# lets check whether we still have any categorical columns left after encoding\n",
    "print(datatr.select_dtypes('object').columns)\n",
    "print(datatest.select_dtypes('object').columns)"
   ]
  },
  {
   "cell_type": "code",
   "execution_count": null,
   "id": "3e3b2048-5f9e-474c-a6d2-508e7eff851f",
   "metadata": {},
   "outputs": [],
   "source": [
    "datatr"
   ]
  },
  {
   "cell_type": "code",
   "execution_count": null,
   "id": "d3428fbd-7ac2-4739-9ede-6c37e5089ba7",
   "metadata": {},
   "outputs": [],
   "source": [
    "y = datatr['is_promoted']\n",
    "x = datatr.drop(['is_promoted'], axis = 1)\n",
    "x_test = datatest"
   ]
  },
  {
   "cell_type": "markdown",
   "id": "fd6c348f-5ff3-4692-9697-decd9832f71a",
   "metadata": {},
   "source": [
    "The dataset is very imbalanced as observed from the value_counts of the target variable. "
   ]
  },
  {
   "cell_type": "code",
   "execution_count": null,
   "id": "bc721a80-71aa-40fa-8e1e-51ef8d7b8689",
   "metadata": {},
   "outputs": [],
   "source": [
    "from imblearn.over_sampling import SMOTE\n",
    "\n",
    "x_resample, y_resample  = SMOTE().fit_resample(x, y.values.ravel())"
   ]
  },
  {
   "cell_type": "code",
   "execution_count": null,
   "id": "7717ffc5-bd43-428f-8aa7-162f05f639f8",
   "metadata": {},
   "outputs": [],
   "source": [
    "from sklearn.model_selection import train_test_split\n",
    "\n",
    "x_train, x_valid, y_train, y_valid = train_test_split(x_resample, y_resample, test_size = 0.2, random_state = 0)"
   ]
  },
  {
   "cell_type": "code",
   "execution_count": null,
   "id": "24ee8175-9f24-4628-ac95-47ff45407a3a",
   "metadata": {},
   "outputs": [],
   "source": [
    "#Scaling the values\n",
    "from sklearn.preprocessing import StandardScaler\n",
    "\n",
    "sc = StandardScaler()\n",
    "x_train = sc.fit_transform(x_train)\n",
    "x_valid = sc.transform(x_valid)\n",
    "x_test = sc.transform(x_test)"
   ]
  },
  {
   "cell_type": "code",
   "execution_count": null,
   "id": "cca90392-33ec-4b59-8d62-8d9a4f12603c",
   "metadata": {},
   "outputs": [],
   "source": [
    "# create models\n",
    "models = {\n",
    "    'Logistic Regression': LogisticRegression(),\n",
    "    'Decision Tree': DecisionTreeClassifier(),\n",
    "    'Random Forest': RandomForestClassifier(),\n",
    "    'Gradient Boosting' : GradientBoostingClassifier(random_state=42)\n",
    "}\n",
    "\n",
    "# train and evaluate models\n",
    "for name, model in models.items():\n",
    "\n",
    "    # fit model\n",
    "    model.fit(x_train, y_train)\n",
    "\n",
    "    # make predictions\n",
    "    y_pred = model.predict(x_valid)\n",
    "\n",
    "    # print metrics\n",
    "    print(f'Model: {name}')\n",
    "    print(f'Accuracy: {accuracy_score(y_valid,y_pred)}')\n",
    "    print(f'Precision: {precision_score(y_valid,y_pred)}')\n",
    "    print(f'Recall: {recall_score(y_valid,y_pred)}')\n",
    "    print(f'F1 Score: {f1_score(y_valid,y_pred)}')\n",
    "    print(f'Classification Report: {classification_report(y_valid,y_pred)}')\n",
    "    print('\\n')\n"
   ]
  },
  {
   "cell_type": "code",
   "execution_count": null,
   "id": "76a5ade2-da88-4218-b44e-069ded214322",
   "metadata": {},
   "outputs": [],
   "source": [
    "# Define input shape\n",
    "input_shape = (x_train.shape[1],)\n",
    "\n",
    "# Define the model architecture\n",
    "model = keras.Sequential([\n",
    "    layers.Dense(64, activation='relu', input_shape=input_shape),\n",
    "    layers.Dense(64, activation='tanh'),\n",
    "    layers.Dense(1, activation='sigmoid')\n",
    "])\n",
    "\n",
    "# Compile the model\n",
    "model.compile(optimizer='adam', loss='binary_crossentropy', metrics=['accuracy'])\n",
    "\n",
    "# Train the model\n",
    "history = model.fit(x_train, y_train, epochs=20, batch_size=32, validation_split=0.2)\n",
    "\n",
    "# Evaluate the model on the test set\n",
    "test_loss, test_acc = model.evaluate(x_valid, y_valid)\n",
    "\n",
    "# Print the test accuracy\n",
    "print('Test accuracy:', test_acc)\n",
    "print(classification_report(y_valid, y_pred))"
   ]
  },
  {
   "cell_type": "code",
   "execution_count": null,
   "id": "b7f8ee35",
   "metadata": {},
   "outputs": [],
   "source": [
    "selected_model = RandomForestClassifier()\n",
    "selected_model.fit(x_train, y_train)\n",
    "y_test = selected_model.predict(x_test)"
   ]
  },
  {
   "cell_type": "code",
   "execution_count": null,
   "id": "d3527883-1463-43f5-a5a2-73ca834fdf93",
   "metadata": {},
   "outputs": [],
   "source": [
    "y_test"
   ]
  },
  {
   "cell_type": "code",
   "execution_count": null,
   "id": "145366c2-972d-4c1c-be9d-4c5572cb4fb1",
   "metadata": {},
   "outputs": [],
   "source": [
    "df = pd.DataFrame(y_test)"
   ]
  },
  {
   "cell_type": "code",
   "execution_count": null,
   "id": "b570eeec-de39-41c8-8625-a187589a0bb0",
   "metadata": {},
   "outputs": [],
   "source": [
    "df.value_counts()"
   ]
  },
  {
   "cell_type": "code",
   "execution_count": null,
   "id": "d6cc41af-b7dc-4526-90ea-fcbabe954ee5",
   "metadata": {},
   "outputs": [],
   "source": [
    "# saving the dataframe\n",
    "dftest = pd.DataFrame(x_test)\n",
    "dftest.to_csv('test.csv')"
   ]
  },
  {
   "cell_type": "code",
   "execution_count": null,
   "id": "183a7914-e5f5-42ab-b044-7bf67caef22f",
   "metadata": {},
   "outputs": [],
   "source": []
  }
 ],
 "metadata": {
  "kernelspec": {
   "display_name": "Python 3 (ipykernel)",
   "language": "python",
   "name": "python3"
  },
  "language_info": {
   "codemirror_mode": {
    "name": "ipython",
    "version": 3
   },
   "file_extension": ".py",
   "mimetype": "text/x-python",
   "name": "python",
   "nbconvert_exporter": "python",
   "pygments_lexer": "ipython3",
   "version": "3.9.13"
  },
  "vscode": {
   "interpreter": {
    "hash": "a48757197efadc33c7df4249fc2fa6a956180857adf4de9f582324727c440d52"
   }
  }
 },
 "nbformat": 4,
 "nbformat_minor": 5
}
